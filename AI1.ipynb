{
  "nbformat": 4,
  "nbformat_minor": 0,
  "metadata": {
    "colab": {
      "provenance": [],
      "authorship_tag": "ABX9TyO8ZIidfqsJb7BSm8Xh8ZZu",
      "include_colab_link": true
    },
    "kernelspec": {
      "name": "python3",
      "display_name": "Python 3"
    },
    "language_info": {
      "name": "python"
    }
  },
  "cells": [
    {
      "cell_type": "markdown",
      "metadata": {
        "id": "view-in-github",
        "colab_type": "text"
      },
      "source": [
        "<a href=\"https://colab.research.google.com/github/Rullyro/AIDepartmen1/blob/main/AI1.ipynb\" target=\"_parent\"><img src=\"https://colab.research.google.com/assets/colab-badge.svg\" alt=\"Open In Colab\"/></a>"
      ]
    },
    {
      "cell_type": "code",
      "source": [
        "# Load libraries\n",
        "import pandas as pd\n",
        "from sklearn.tree import DecisionTreeClassifier # Import Decision Tree Classifier\n",
        "from sklearn.model_selection import train_test_split # Import train_test_split function\n",
        "from sklearn import metrics\n",
        "from sklearn.metrics import plot_confusion_matrix\n",
        "from sklearn.metrics import confusion_matrix\n",
        "from sklearn.metrics import classification_report\n",
        "from sklearn.preprocessing import MinMaxScaler\n",
        "from sklearn.cluster import KMeans\n",
        "import matplotlib.pyplot as plt"
      ],
      "metadata": {
        "id": "IUlU0pJhoe08"
      },
      "execution_count": 1,
      "outputs": []
    },
    {
      "cell_type": "code",
      "source": [
        "# load dataset\n",
        "col_names = ['pH', 'EC mS/cm', 'N_NO3 ppm', 'P ppm', 'K ppm', 'Class']\n",
        "feature_cols = ['pH', 'EC mS/cm', 'N_NO3 ppm', 'P ppm', 'K ppm']\n",
        "from google.colab import drive\n",
        "drive.mount('/content/drive')\n",
        "df = pd.read_csv(\"/content/drive/My Drive/Colab Notebooks/soildatanew.csv\")\n",
        "df"
      ],
      "metadata": {
        "id": "_-S-Mvq6ofSU",
        "colab": {
          "base_uri": "https://localhost:8080/",
          "height": 441
        },
        "outputId": "4a5c525e-3ee9-4d22-8cd1-5e9b35e341bd"
      },
      "execution_count": 3,
      "outputs": [
        {
          "output_type": "stream",
          "name": "stdout",
          "text": [
            "Mounted at /content/drive\n"
          ]
        },
        {
          "output_type": "execute_result",
          "data": {
            "text/plain": [
              "      ID    pH  EC mS/cm  N_NO3 ppm  P ppm  K ppm           Class\n",
              "0      1  5.16     0.274      14.46  18.61     147  Tidak Optimal\n",
              "1      2  6.07     0.355      14.59  32.74     180        Optimal\n",
              "2      3  6.92     0.675      14.91  19.02     183        Optimal\n",
              "3      4  7.70     0.355       4.21   6.28     116  Tidak Optimal\n",
              "4      5  7.61     0.392       6.11   6.55     228  Tidak Optimal\n",
              "..   ...   ...       ...        ...    ...     ...            ...\n",
              "776  777  6.72     0.454       7.66  20.67     395        Optimal\n",
              "777  778  7.79     0.343       5.20   4.14     286  Tidak Optimal\n",
              "778  779  7.63     1.135      17.13   6.90     582  Tidak Optimal\n",
              "779  780  7.73     0.393       3.92   7.93     335  Tidak Optimal\n",
              "780  781  7.80     0.388      10.35   3.68     622  Tidak Optimal\n",
              "\n",
              "[781 rows x 7 columns]"
            ],
            "text/html": [
              "\n",
              "  <div id=\"df-812e1ac2-9578-47a2-8e86-08b06726910c\">\n",
              "    <div class=\"colab-df-container\">\n",
              "      <div>\n",
              "<style scoped>\n",
              "    .dataframe tbody tr th:only-of-type {\n",
              "        vertical-align: middle;\n",
              "    }\n",
              "\n",
              "    .dataframe tbody tr th {\n",
              "        vertical-align: top;\n",
              "    }\n",
              "\n",
              "    .dataframe thead th {\n",
              "        text-align: right;\n",
              "    }\n",
              "</style>\n",
              "<table border=\"1\" class=\"dataframe\">\n",
              "  <thead>\n",
              "    <tr style=\"text-align: right;\">\n",
              "      <th></th>\n",
              "      <th>ID</th>\n",
              "      <th>pH</th>\n",
              "      <th>EC mS/cm</th>\n",
              "      <th>N_NO3 ppm</th>\n",
              "      <th>P ppm</th>\n",
              "      <th>K ppm</th>\n",
              "      <th>Class</th>\n",
              "    </tr>\n",
              "  </thead>\n",
              "  <tbody>\n",
              "    <tr>\n",
              "      <th>0</th>\n",
              "      <td>1</td>\n",
              "      <td>5.16</td>\n",
              "      <td>0.274</td>\n",
              "      <td>14.46</td>\n",
              "      <td>18.61</td>\n",
              "      <td>147</td>\n",
              "      <td>Tidak Optimal</td>\n",
              "    </tr>\n",
              "    <tr>\n",
              "      <th>1</th>\n",
              "      <td>2</td>\n",
              "      <td>6.07</td>\n",
              "      <td>0.355</td>\n",
              "      <td>14.59</td>\n",
              "      <td>32.74</td>\n",
              "      <td>180</td>\n",
              "      <td>Optimal</td>\n",
              "    </tr>\n",
              "    <tr>\n",
              "      <th>2</th>\n",
              "      <td>3</td>\n",
              "      <td>6.92</td>\n",
              "      <td>0.675</td>\n",
              "      <td>14.91</td>\n",
              "      <td>19.02</td>\n",
              "      <td>183</td>\n",
              "      <td>Optimal</td>\n",
              "    </tr>\n",
              "    <tr>\n",
              "      <th>3</th>\n",
              "      <td>4</td>\n",
              "      <td>7.70</td>\n",
              "      <td>0.355</td>\n",
              "      <td>4.21</td>\n",
              "      <td>6.28</td>\n",
              "      <td>116</td>\n",
              "      <td>Tidak Optimal</td>\n",
              "    </tr>\n",
              "    <tr>\n",
              "      <th>4</th>\n",
              "      <td>5</td>\n",
              "      <td>7.61</td>\n",
              "      <td>0.392</td>\n",
              "      <td>6.11</td>\n",
              "      <td>6.55</td>\n",
              "      <td>228</td>\n",
              "      <td>Tidak Optimal</td>\n",
              "    </tr>\n",
              "    <tr>\n",
              "      <th>...</th>\n",
              "      <td>...</td>\n",
              "      <td>...</td>\n",
              "      <td>...</td>\n",
              "      <td>...</td>\n",
              "      <td>...</td>\n",
              "      <td>...</td>\n",
              "      <td>...</td>\n",
              "    </tr>\n",
              "    <tr>\n",
              "      <th>776</th>\n",
              "      <td>777</td>\n",
              "      <td>6.72</td>\n",
              "      <td>0.454</td>\n",
              "      <td>7.66</td>\n",
              "      <td>20.67</td>\n",
              "      <td>395</td>\n",
              "      <td>Optimal</td>\n",
              "    </tr>\n",
              "    <tr>\n",
              "      <th>777</th>\n",
              "      <td>778</td>\n",
              "      <td>7.79</td>\n",
              "      <td>0.343</td>\n",
              "      <td>5.20</td>\n",
              "      <td>4.14</td>\n",
              "      <td>286</td>\n",
              "      <td>Tidak Optimal</td>\n",
              "    </tr>\n",
              "    <tr>\n",
              "      <th>778</th>\n",
              "      <td>779</td>\n",
              "      <td>7.63</td>\n",
              "      <td>1.135</td>\n",
              "      <td>17.13</td>\n",
              "      <td>6.90</td>\n",
              "      <td>582</td>\n",
              "      <td>Tidak Optimal</td>\n",
              "    </tr>\n",
              "    <tr>\n",
              "      <th>779</th>\n",
              "      <td>780</td>\n",
              "      <td>7.73</td>\n",
              "      <td>0.393</td>\n",
              "      <td>3.92</td>\n",
              "      <td>7.93</td>\n",
              "      <td>335</td>\n",
              "      <td>Tidak Optimal</td>\n",
              "    </tr>\n",
              "    <tr>\n",
              "      <th>780</th>\n",
              "      <td>781</td>\n",
              "      <td>7.80</td>\n",
              "      <td>0.388</td>\n",
              "      <td>10.35</td>\n",
              "      <td>3.68</td>\n",
              "      <td>622</td>\n",
              "      <td>Tidak Optimal</td>\n",
              "    </tr>\n",
              "  </tbody>\n",
              "</table>\n",
              "<p>781 rows × 7 columns</p>\n",
              "</div>\n",
              "      <button class=\"colab-df-convert\" onclick=\"convertToInteractive('df-812e1ac2-9578-47a2-8e86-08b06726910c')\"\n",
              "              title=\"Convert this dataframe to an interactive table.\"\n",
              "              style=\"display:none;\">\n",
              "        \n",
              "  <svg xmlns=\"http://www.w3.org/2000/svg\" height=\"24px\"viewBox=\"0 0 24 24\"\n",
              "       width=\"24px\">\n",
              "    <path d=\"M0 0h24v24H0V0z\" fill=\"none\"/>\n",
              "    <path d=\"M18.56 5.44l.94 2.06.94-2.06 2.06-.94-2.06-.94-.94-2.06-.94 2.06-2.06.94zm-11 1L8.5 8.5l.94-2.06 2.06-.94-2.06-.94L8.5 2.5l-.94 2.06-2.06.94zm10 10l.94 2.06.94-2.06 2.06-.94-2.06-.94-.94-2.06-.94 2.06-2.06.94z\"/><path d=\"M17.41 7.96l-1.37-1.37c-.4-.4-.92-.59-1.43-.59-.52 0-1.04.2-1.43.59L10.3 9.45l-7.72 7.72c-.78.78-.78 2.05 0 2.83L4 21.41c.39.39.9.59 1.41.59.51 0 1.02-.2 1.41-.59l7.78-7.78 2.81-2.81c.8-.78.8-2.07 0-2.86zM5.41 20L4 18.59l7.72-7.72 1.47 1.35L5.41 20z\"/>\n",
              "  </svg>\n",
              "      </button>\n",
              "      \n",
              "  <style>\n",
              "    .colab-df-container {\n",
              "      display:flex;\n",
              "      flex-wrap:wrap;\n",
              "      gap: 12px;\n",
              "    }\n",
              "\n",
              "    .colab-df-convert {\n",
              "      background-color: #E8F0FE;\n",
              "      border: none;\n",
              "      border-radius: 50%;\n",
              "      cursor: pointer;\n",
              "      display: none;\n",
              "      fill: #1967D2;\n",
              "      height: 32px;\n",
              "      padding: 0 0 0 0;\n",
              "      width: 32px;\n",
              "    }\n",
              "\n",
              "    .colab-df-convert:hover {\n",
              "      background-color: #E2EBFA;\n",
              "      box-shadow: 0px 1px 2px rgba(60, 64, 67, 0.3), 0px 1px 3px 1px rgba(60, 64, 67, 0.15);\n",
              "      fill: #174EA6;\n",
              "    }\n",
              "\n",
              "    [theme=dark] .colab-df-convert {\n",
              "      background-color: #3B4455;\n",
              "      fill: #D2E3FC;\n",
              "    }\n",
              "\n",
              "    [theme=dark] .colab-df-convert:hover {\n",
              "      background-color: #434B5C;\n",
              "      box-shadow: 0px 1px 3px 1px rgba(0, 0, 0, 0.15);\n",
              "      filter: drop-shadow(0px 1px 2px rgba(0, 0, 0, 0.3));\n",
              "      fill: #FFFFFF;\n",
              "    }\n",
              "  </style>\n",
              "\n",
              "      <script>\n",
              "        const buttonEl =\n",
              "          document.querySelector('#df-812e1ac2-9578-47a2-8e86-08b06726910c button.colab-df-convert');\n",
              "        buttonEl.style.display =\n",
              "          google.colab.kernel.accessAllowed ? 'block' : 'none';\n",
              "\n",
              "        async function convertToInteractive(key) {\n",
              "          const element = document.querySelector('#df-812e1ac2-9578-47a2-8e86-08b06726910c');\n",
              "          const dataTable =\n",
              "            await google.colab.kernel.invokeFunction('convertToInteractive',\n",
              "                                                     [key], {});\n",
              "          if (!dataTable) return;\n",
              "\n",
              "          const docLinkHtml = 'Like what you see? Visit the ' +\n",
              "            '<a target=\"_blank\" href=https://colab.research.google.com/notebooks/data_table.ipynb>data table notebook</a>'\n",
              "            + ' to learn more about interactive tables.';\n",
              "          element.innerHTML = '';\n",
              "          dataTable['output_type'] = 'display_data';\n",
              "          await google.colab.output.renderOutput(dataTable, element);\n",
              "          const docLink = document.createElement('div');\n",
              "          docLink.innerHTML = docLinkHtml;\n",
              "          element.appendChild(docLink);\n",
              "        }\n",
              "      </script>\n",
              "    </div>\n",
              "  </div>\n",
              "  "
            ]
          },
          "metadata": {},
          "execution_count": 3
        }
      ]
    },
    {
      "cell_type": "code",
      "source": [
        "# Konversi EC\n",
        "df['EC mS/cm']=df['EC mS/cm']*1000\n",
        "df['EC mS/cm'].describe()"
      ],
      "metadata": {
        "colab": {
          "base_uri": "https://localhost:8080/"
        },
        "id": "_L0Gfrv9o-_b",
        "outputId": "6727204e-9317-4519-876d-92a0cfcfb478"
      },
      "execution_count": 4,
      "outputs": [
        {
          "output_type": "execute_result",
          "data": {
            "text/plain": [
              "count     781.000000\n",
              "mean      452.792574\n",
              "std       304.840569\n",
              "min       134.000000\n",
              "25%       338.000000\n",
              "50%       404.000000\n",
              "75%       497.000000\n",
              "max      5621.000000\n",
              "Name: EC mS/cm, dtype: float64"
            ]
          },
          "metadata": {},
          "execution_count": 4
        }
      ]
    },
    {
      "cell_type": "code",
      "source": [
        "df = df.drop(['ID'], axis=1)"
      ],
      "metadata": {
        "id": "iiF9tsy9pcqj"
      },
      "execution_count": 5,
      "outputs": []
    },
    {
      "cell_type": "code",
      "source": [
        "df"
      ],
      "metadata": {
        "id": "WAHYvagKpuZK"
      },
      "execution_count": null,
      "outputs": []
    },
    {
      "cell_type": "code",
      "source": [
        "X = df.iloc[:,0:5] # Features\n",
        "Y = pd.DataFrame(df['Class']) # Target variable"
      ],
      "metadata": {
        "id": "uNii5c1XpBDf"
      },
      "execution_count": 6,
      "outputs": []
    },
    {
      "cell_type": "code",
      "source": [
        "X"
      ],
      "metadata": {
        "id": "eVrktVdUqflK"
      },
      "execution_count": null,
      "outputs": []
    },
    {
      "cell_type": "code",
      "source": [
        "# Normalisasi\n",
        "sc = MinMaxScaler(feature_range=(0, 1))\n",
        "X_Normalize = pd.DataFrame(data=sc.fit_transform(X),columns=feature_cols)"
      ],
      "metadata": {
        "id": "NPd1UvE-qOMj"
      },
      "execution_count": 7,
      "outputs": []
    },
    {
      "cell_type": "code",
      "source": [
        "# Gabung data yg telah di normalisasi dg classnya\n",
        "data1 = pd.merge(X_Normalize, Y, left_index=True, right_index=True)"
      ],
      "metadata": {
        "id": "wcrSvP9Oqta6"
      },
      "execution_count": 8,
      "outputs": []
    },
    {
      "cell_type": "code",
      "source": [
        "data1"
      ],
      "metadata": {
        "id": "27azBzbHkkj2"
      },
      "execution_count": null,
      "outputs": []
    },
    {
      "cell_type": "code",
      "source": [
        "#Split data optimal dan Tidak Optimal\n",
        "data_optimal = data1[data1['Class'] == 'Optimal']\n",
        "data_tidak_optimal = data1[data1['Class'] == 'Tidak Optimal']"
      ],
      "metadata": {
        "id": "m2pc4Smuqw5K"
      },
      "execution_count": 9,
      "outputs": []
    },
    {
      "cell_type": "code",
      "source": [
        "data_tidak_optimal"
      ],
      "metadata": {
        "id": "yf6O1PfswCqy"
      },
      "execution_count": null,
      "outputs": []
    },
    {
      "cell_type": "code",
      "source": [
        "df1 = pd.concat([data_optimal, data_tidak_optimal])\n",
        "x1 = df1.drop(labels=['Class'], axis=1) #variabel fitur\n",
        "y1= df1['Class'] #variabel kelas"
      ],
      "metadata": {
        "id": "yRw3mVHI0X-8"
      },
      "execution_count": 10,
      "outputs": []
    },
    {
      "cell_type": "code",
      "source": [
        "x1"
      ],
      "metadata": {
        "id": "9DVJHyz5RGch"
      },
      "execution_count": null,
      "outputs": []
    },
    {
      "cell_type": "code",
      "source": [
        "from sklearn.model_selection import train_test_split"
      ],
      "metadata": {
        "id": "8n4XX7wH2ehj"
      },
      "execution_count": 11,
      "outputs": []
    },
    {
      "cell_type": "code",
      "source": [
        "X_train, X_test, y_train, y_test = train_test_split(x1, y1, test_size=0.25, random_state=0, stratify=y1)"
      ],
      "metadata": {
        "id": "VDCwHLjk0NCb"
      },
      "execution_count": 12,
      "outputs": []
    },
    {
      "cell_type": "code",
      "source": [
        "y_test"
      ],
      "metadata": {
        "id": "petZ8V741SAT"
      },
      "execution_count": null,
      "outputs": []
    },
    {
      "cell_type": "code",
      "source": [
        "# Create Decision Tree classifer object\n",
        "clf = DecisionTreeClassifier(max_depth = None, min_samples_split = 2)\n",
        "\n",
        "# Train Decision Tree Classifer\n",
        "clf = clf.fit(X_train,y_train)\n",
        "\n",
        "#Predict the response for test dataset\n",
        "y_pred = clf.predict(X_test)\n",
        "\n",
        "# Model Accuracy, how often is the classifier correct?\n",
        "print(\"Accuracy:\",metrics.accuracy_score(y_test, y_pred))\n",
        "\n",
        "matrix = confusion_matrix(y_test, y_pred)\n",
        "plot_confusion_matrix(clf, X_test, y_test)  \n",
        "plt.show()  \n"
      ],
      "metadata": {
        "id": "3YgSZwvJq8Bi",
        "outputId": "c5a5d2ea-3fe9-42c7-c70f-6af4682f2e4f",
        "colab": {
          "base_uri": "https://localhost:8080/",
          "height": 351
        }
      },
      "execution_count": 13,
      "outputs": [
        {
          "output_type": "stream",
          "name": "stdout",
          "text": [
            "Accuracy: 1.0\n"
          ]
        },
        {
          "output_type": "stream",
          "name": "stderr",
          "text": [
            "/usr/local/lib/python3.7/dist-packages/sklearn/utils/deprecation.py:87: FutureWarning: Function plot_confusion_matrix is deprecated; Function `plot_confusion_matrix` is deprecated in 1.0 and will be removed in 1.2. Use one of the class methods: ConfusionMatrixDisplay.from_predictions or ConfusionMatrixDisplay.from_estimator.\n",
            "  warnings.warn(msg, category=FutureWarning)\n"
          ]
        },
        {
          "output_type": "display_data",
          "data": {
            "text/plain": [
              "<Figure size 432x288 with 2 Axes>"
            ],
            "image/png": "[encoded data removed]"
          },
          "metadata": {
            "needs_background": "light"
          }
        }
      ]
    },
    {
      "cell_type": "code",
      "source": [
        "# Decision Tree dengan maximal kedalaman adalah 1 dan minimal jumlah sampel untuk dibentuk leaf baru adalah 2\n",
        "dt = DecisionTreeClassifier(\n",
        "  max_depth = 3,\n",
        "  min_samples_split = 2\n",
        ") #random_state=0, max_depth=2.  (*, criterion='gini', splitter='best', max_depth=None, min_samples_split=2, min_samples_leaf=1, min_weight_fraction_leaf=0.0, max_features=None, random_state=None, max_leaf_nodes=None, min_impurity_decrease=0.0, min_impurity_split=None, class_weight=None, ccp_alpha=0.0)\n",
        "\n",
        "dt.fit(X_train, y_train)\n",
        "y_pred = dt.predict(X_test)\n",
        "score = metrics.accuracy_score(y_test, y_pred)\n",
        "print(\"Akurasi dengan menggunakan Decision Tree: \", score)\n",
        "\n",
        "# Confusion matrix\n",
        "matrix = confusion_matrix(y_test, y_pred)\n",
        "plot_confusion_matrix(dt, X_test, y_test)  \n",
        "plt.show()  \n",
        "\n",
        "# Classification report\n",
        "report = classification_report(y_test, y_pred)\n",
        "# cek hasil matrix\n",
        "print(report)"
      ],
      "metadata": {
        "colab": {
          "base_uri": "https://localhost:8080/",
          "height": 507
        },
        "id": "xB_drjcwvcES",
        "outputId": "b2d20b58-d7ac-42c4-b7d1-40db1f9ae455"
      },
      "execution_count": 14,
      "outputs": [
        {
          "output_type": "stream",
          "name": "stdout",
          "text": [
            "Akurasi dengan menggunakan Decision Tree:  1.0\n"
          ]
        },
        {
          "output_type": "stream",
          "name": "stderr",
          "text": [
            "/usr/local/lib/python3.7/dist-packages/sklearn/utils/deprecation.py:87: FutureWarning: Function plot_confusion_matrix is deprecated; Function `plot_confusion_matrix` is deprecated in 1.0 and will be removed in 1.2. Use one of the class methods: ConfusionMatrixDisplay.from_predictions or ConfusionMatrixDisplay.from_estimator.\n",
            "  warnings.warn(msg, category=FutureWarning)\n"
          ]
        },
        {
          "output_type": "display_data",
          "data": {
            "text/plain": [
              "<Figure size 432x288 with 2 Axes>"
            ],
            "image/png": "[encoded data removed]"
          },
          "metadata": {
            "needs_background": "light"
          }
        },
        {
          "output_type": "stream",
          "name": "stdout",
          "text": [
            "               precision    recall  f1-score   support\n",
            "\n",
            "      Optimal       1.00      1.00      1.00        85\n",
            "Tidak Optimal       1.00      1.00      1.00       111\n",
            "\n",
            "     accuracy                           1.00       196\n",
            "    macro avg       1.00      1.00      1.00       196\n",
            " weighted avg       1.00      1.00      1.00       196\n",
            "\n"
          ]
        }
      ]
    },
    {
      "cell_type": "code",
      "source": [
        "df.info()"
      ],
      "metadata": {
        "id": "YcPA63faSYGz"
      },
      "execution_count": null,
      "outputs": []
    },
    {
      "cell_type": "code",
      "source": [
        "df['Class']"
      ],
      "metadata": {
        "id": "tsETZ9W9UKLK"
      },
      "execution_count": null,
      "outputs": []
    },
    {
      "cell_type": "code",
      "source": [
        "from sklearn import tree\n",
        "import graphviz\n",
        "dot_data = tree.export_graphviz(clf, out_file=None, \n",
        "                      feature_names=['pH', 'EC mS/cm', 'N_NO3 ppm', 'P ppm', 'K ppm'],  \n",
        "                      class_names=df['Class'],  \n",
        "                      filled=True)  \n",
        "graph = graphviz.Source(dot_data)  \n",
        "graph \n"
      ],
      "metadata": {
        "colab": {
          "base_uri": "https://localhost:8080/",
          "height": 440
        },
        "id": "eceiJjQyvPGL",
        "outputId": "96ddf950-96e8-42c5-ff65-f371ddf9141e"
      },
      "execution_count": 15,
      "outputs": [
        {
          "output_type": "execute_result",
          "data": {
            "text/plain": [
              "<graphviz.files.Source at 0x7f1d6b50cbd0>"
            ],
            "image/svg+xml": "<?xml version=\"1.0\" encoding=\"UTF-8\" standalone=\"no\"?>\n<!DOCTYPE svg PUBLIC \"-//W3C//DTD SVG 1.1//EN\"\n \"http://www.w3.org/Graphics/SVG/1.1/DTD/svg11.dtd\">\n<!-- Generated by graphviz version 2.40.1 (20161225.0304)\n -->\n<!-- Title: Tree Pages: 1 -->\n<svg width=\"355pt\" height=\"314pt\"\n viewBox=\"0.00 0.00 355.00 314.00\" xmlns=\"http://www.w3.org/2000/svg\" xmlns:xlink=\"http://www.w3.org/1999/xlink\">\n<g id=\"graph0\" class=\"graph\" transform=\"scale(1 1) rotate(0) translate(4 310)\">\n<title>Tree</title>\n<polygon fill=\"#ffffff\" stroke=\"transparent\" points=\"-4,4 -4,-310 351,-310 351,4 -4,4\"/>\n<!-- 0 -->\n<g id=\"node1\" class=\"node\">\n<title>0</title>\n<polygon fill=\"#d1e8f9\" stroke=\"#000000\" points=\"278,-306 146,-306 146,-223 278,-223 278,-306\"/>\n<text text-anchor=\"middle\" x=\"212\" y=\"-290.8\" font-family=\"Helvetica,sans-Serif\" font-size=\"14.00\" fill=\"#000000\">pH &lt;= 0.84</text>\n<text text-anchor=\"middle\" x=\"212\" y=\"-275.8\" font-family=\"Helvetica,sans-Serif\" font-size=\"14.00\" fill=\"#000000\">gini = 0.491</text>\n<text text-anchor=\"middle\" x=\"212\" y=\"-260.8\" font-family=\"Helvetica,sans-Serif\" font-size=\"14.00\" fill=\"#000000\">samples = 585</text>\n<text text-anchor=\"middle\" x=\"212\" y=\"-245.8\" font-family=\"Helvetica,sans-Serif\" font-size=\"14.00\" fill=\"#000000\">value = [254, 331]</text>\n<text text-anchor=\"middle\" x=\"212\" y=\"-230.8\" font-family=\"Helvetica,sans-Serif\" font-size=\"14.00\" fill=\"#000000\">class = Optimal</text>\n</g>\n<!-- 1 -->\n<g id=\"node2\" class=\"node\">\n<title>1</title>\n<polygon fill=\"#eca36f\" stroke=\"#000000\" points=\"212.5,-187 57.5,-187 57.5,-104 212.5,-104 212.5,-187\"/>\n<text text-anchor=\"middle\" x=\"135\" y=\"-171.8\" font-family=\"Helvetica,sans-Serif\" font-size=\"14.00\" fill=\"#000000\">pH &lt;= 0.352</text>\n<text text-anchor=\"middle\" x=\"135\" y=\"-156.8\" font-family=\"Helvetica,sans-Serif\" font-size=\"14.00\" fill=\"#000000\">gini = 0.336</text>\n<text text-anchor=\"middle\" x=\"135\" y=\"-141.8\" font-family=\"Helvetica,sans-Serif\" font-size=\"14.00\" fill=\"#000000\">samples = 323</text>\n<text text-anchor=\"middle\" x=\"135\" y=\"-126.8\" font-family=\"Helvetica,sans-Serif\" font-size=\"14.00\" fill=\"#000000\">value = [254, 69]</text>\n<text text-anchor=\"middle\" x=\"135\" y=\"-111.8\" font-family=\"Helvetica,sans-Serif\" font-size=\"14.00\" fill=\"#000000\">class = Tidak Optimal</text>\n</g>\n<!-- 0&#45;&gt;1 -->\n<g id=\"edge1\" class=\"edge\">\n<title>0&#45;&gt;1</title>\n<path fill=\"none\" stroke=\"#000000\" d=\"M185.0691,-222.8796C179.4163,-214.1434 173.3967,-204.8404 167.5634,-195.8253\"/>\n<polygon fill=\"#000000\" stroke=\"#000000\" points=\"170.4169,-193.7924 162.0458,-187.2981 164.5399,-197.5952 170.4169,-193.7924\"/>\n<text text-anchor=\"middle\" x=\"156.8076\" y=\"-208.0431\" font-family=\"Helvetica,sans-Serif\" font-size=\"14.00\" fill=\"#000000\">True</text>\n</g>\n<!-- 4 -->\n<g id=\"node5\" class=\"node\">\n<title>4</title>\n<polygon fill=\"#399de5\" stroke=\"#000000\" points=\"347,-179.5 231,-179.5 231,-111.5 347,-111.5 347,-179.5\"/>\n<text text-anchor=\"middle\" x=\"289\" y=\"-164.3\" font-family=\"Helvetica,sans-Serif\" font-size=\"14.00\" fill=\"#000000\">gini = 0.0</text>\n<text text-anchor=\"middle\" x=\"289\" y=\"-149.3\" font-family=\"Helvetica,sans-Serif\" font-size=\"14.00\" fill=\"#000000\">samples = 262</text>\n<text text-anchor=\"middle\" x=\"289\" y=\"-134.3\" font-family=\"Helvetica,sans-Serif\" font-size=\"14.00\" fill=\"#000000\">value = [0, 262]</text>\n<text text-anchor=\"middle\" x=\"289\" y=\"-119.3\" font-family=\"Helvetica,sans-Serif\" font-size=\"14.00\" fill=\"#000000\">class = Optimal</text>\n</g>\n<!-- 0&#45;&gt;4 -->\n<g id=\"edge4\" class=\"edge\">\n<title>0&#45;&gt;4</title>\n<path fill=\"none\" stroke=\"#000000\" d=\"M238.9309,-222.8796C246.1883,-211.6636 254.0503,-199.5131 261.3465,-188.2372\"/>\n<polygon fill=\"#000000\" stroke=\"#000000\" points=\"264.3022,-190.112 266.7962,-179.8149 258.4252,-186.3093 264.3022,-190.112\"/>\n<text text-anchor=\"middle\" x=\"272.0344\" y=\"-200.56\" font-family=\"Helvetica,sans-Serif\" font-size=\"14.00\" fill=\"#000000\">False</text>\n</g>\n<!-- 2 -->\n<g id=\"node3\" class=\"node\">\n<title>2</title>\n<polygon fill=\"#399de5\" stroke=\"#000000\" points=\"116,-68 0,-68 0,0 116,0 116,-68\"/>\n<text text-anchor=\"middle\" x=\"58\" y=\"-52.8\" font-family=\"Helvetica,sans-Serif\" font-size=\"14.00\" fill=\"#000000\">gini = 0.0</text>\n<text text-anchor=\"middle\" x=\"58\" y=\"-37.8\" font-family=\"Helvetica,sans-Serif\" font-size=\"14.00\" fill=\"#000000\">samples = 69</text>\n<text text-anchor=\"middle\" x=\"58\" y=\"-22.8\" font-family=\"Helvetica,sans-Serif\" font-size=\"14.00\" fill=\"#000000\">value = [0, 69]</text>\n<text text-anchor=\"middle\" x=\"58\" y=\"-7.8\" font-family=\"Helvetica,sans-Serif\" font-size=\"14.00\" fill=\"#000000\">class = Optimal</text>\n</g>\n<!-- 1&#45;&gt;2 -->\n<g id=\"edge2\" class=\"edge\">\n<title>1&#45;&gt;2</title>\n<path fill=\"none\" stroke=\"#000000\" d=\"M106.328,-103.9815C100.1715,-95.0666 93.6557,-85.6313 87.4695,-76.6734\"/>\n<polygon fill=\"#000000\" stroke=\"#000000\" points=\"90.2245,-74.5034 81.6619,-68.2637 84.4645,-78.4811 90.2245,-74.5034\"/>\n</g>\n<!-- 3 -->\n<g id=\"node4\" class=\"node\">\n<title>3</title>\n<polygon fill=\"#e58139\" stroke=\"#000000\" points=\"289.5,-68 134.5,-68 134.5,0 289.5,0 289.5,-68\"/>\n<text text-anchor=\"middle\" x=\"212\" y=\"-52.8\" font-family=\"Helvetica,sans-Serif\" font-size=\"14.00\" fill=\"#000000\">gini = 0.0</text>\n<text text-anchor=\"middle\" x=\"212\" y=\"-37.8\" font-family=\"Helvetica,sans-Serif\" font-size=\"14.00\" fill=\"#000000\">samples = 254</text>\n<text text-anchor=\"middle\" x=\"212\" y=\"-22.8\" font-family=\"Helvetica,sans-Serif\" font-size=\"14.00\" fill=\"#000000\">value = [254, 0]</text>\n<text text-anchor=\"middle\" x=\"212\" y=\"-7.8\" font-family=\"Helvetica,sans-Serif\" font-size=\"14.00\" fill=\"#000000\">class = Tidak Optimal</text>\n</g>\n<!-- 1&#45;&gt;3 -->\n<g id=\"edge3\" class=\"edge\">\n<title>1&#45;&gt;3</title>\n<path fill=\"none\" stroke=\"#000000\" d=\"M163.672,-103.9815C169.8285,-95.0666 176.3443,-85.6313 182.5305,-76.6734\"/>\n<polygon fill=\"#000000\" stroke=\"#000000\" points=\"185.5355,-78.4811 188.3381,-68.2637 179.7755,-74.5034 185.5355,-78.4811\"/>\n</g>\n</g>\n</svg>\n"
          },
          "metadata": {},
          "execution_count": 15
        }
      ]
    },
    {
      "cell_type": "markdown",
      "source": [
        "KNN"
      ],
      "metadata": {
        "id": "7Shy2pqfRUG6"
      }
    },
    {
      "cell_type": "code",
      "source": [
        "from sklearn.neighbors import KNeighborsClassifier\n",
        "from sklearn.metrics import classification_report\n",
        "knn = KNeighborsClassifier(n_neighbors = 3)\n",
        "knn.fit(X_train, y_train)\n",
        "y_pred = knn.predict(X_train)\n",
        "report = classification_report(y_train, y_pred)\n",
        "\n",
        "print(report)\n",
        "knn.score(X_test, y_test)\n",
        "\n"
      ],
      "metadata": {
        "id": "jU1S2glGiUx1"
      },
      "execution_count": null,
      "outputs": []
    },
    {
      "cell_type": "markdown",
      "source": [
        "ANN"
      ],
      "metadata": {
        "id": "js-5O5wa5UQc"
      }
    },
    {
      "cell_type": "code",
      "source": [
        "from sklearn.neural_network import MLPClassifier\n",
        "from sklearn import metrics\n",
        "from sklearn.metrics import plot_confusion_matrix\n",
        "from sklearn.metrics import confusion_matrix\n",
        "from sklearn.metrics import classification_report\n",
        "import matplotlib.pyplot as plt"
      ],
      "metadata": {
        "id": "Jte7LmQgfxxc"
      },
      "execution_count": 20,
      "outputs": []
    },
    {
      "cell_type": "markdown",
      "source": [
        "Learning ANN"
      ],
      "metadata": {
        "id": "LIdmhMHlf0aU"
      }
    },
    {
      "cell_type": "code",
      "source": [
        "\n",
        "mlp = MLPClassifier(solver='lbfgs', alpha=1e-5, hidden_layer_sizes=(3, 3), random_state=1)\n",
        "\n",
        "mlp.fit(X_train,y_train)\n",
        "y_pred = mlp.predict(X_test)\n",
        "\n",
        "#akurasi\n",
        "score = metrics.accuracy_score(y_test, y_pred)\n",
        "print(\"Akurasi dengan menggunakan Nearest Neighbor: \", score)\n",
        "\n",
        "# Confusion matrix\n",
        "matrix = confusion_matrix(y_test, y_pred)\n",
        "plot_confusion_matrix(mlp, X_test, y_test)  \n",
        "plt.show()  \n",
        "\n",
        "# Classification report\n",
        "report = classification_report(y_test, y_pred)\n",
        "# cek hasil matrix\n",
        "print(report)\n"
      ],
      "metadata": {
        "colab": {
          "base_uri": "https://localhost:8080/",
          "height": 507
        },
        "id": "LetvqhbJ5Tk8",
        "outputId": "b8d5187f-5e5a-4099-a44e-d374380cc89c"
      },
      "execution_count": 21,
      "outputs": [
        {
          "output_type": "stream",
          "name": "stdout",
          "text": [
            "Akurasi dengan menggunakan Nearest Neighbor:  0.9897959183673469\n"
          ]
        },
        {
          "output_type": "stream",
          "name": "stderr",
          "text": [
            "/usr/local/lib/python3.7/dist-packages/sklearn/utils/deprecation.py:87: FutureWarning: Function plot_confusion_matrix is deprecated; Function `plot_confusion_matrix` is deprecated in 1.0 and will be removed in 1.2. Use one of the class methods: ConfusionMatrixDisplay.from_predictions or ConfusionMatrixDisplay.from_estimator.\n",
            "  warnings.warn(msg, category=FutureWarning)\n"
          ]
        },
        {
          "output_type": "display_data",
          "data": {
            "text/plain": [
              "<Figure size 432x288 with 2 Axes>"
            ],
            "image/png": "[encoded data removed]"
          },
          "metadata": {
            "needs_background": "light"
          }
        },
        {
          "output_type": "stream",
          "name": "stdout",
          "text": [
            "               precision    recall  f1-score   support\n",
            "\n",
            "      Optimal       0.99      0.99      0.99        85\n",
            "Tidak Optimal       0.99      0.99      0.99       111\n",
            "\n",
            "     accuracy                           0.99       196\n",
            "    macro avg       0.99      0.99      0.99       196\n",
            " weighted avg       0.99      0.99      0.99       196\n",
            "\n"
          ]
        }
      ]
    },
    {
      "cell_type": "code",
      "source": [
        "from sklearn.preprocessing import LabelEncoder\n",
        "\n",
        "labelencoder = LabelEncoder()\n",
        "df1['Class'] = labelencoder.fit_transform(df1['Class'])"
      ],
      "metadata": {
        "id": "HwmzJGLX5lL1"
      },
      "execution_count": 24,
      "outputs": []
    },
    {
      "cell_type": "code",
      "source": [
        "X = df1.iloc[:,0:5]\n",
        "y = df1['Class']\n",
        "X_train, X_test, y_train, y_test = train_test_split(X, y, test_size=0.2, stratify=y, random_state=1)"
      ],
      "metadata": {
        "id": "oJ400e6P6KLT"
      },
      "execution_count": 41,
      "outputs": []
    },
    {
      "cell_type": "code",
      "source": [
        "X"
      ],
      "metadata": {
        "colab": {
          "base_uri": "https://localhost:8080/",
          "height": 424
        },
        "id": "N-aO3d6P9Uzk",
        "outputId": "6513663c-dfd1-47c0-fafa-50040e14e1aa"
      },
      "execution_count": 42,
      "outputs": [
        {
          "output_type": "execute_result",
          "data": {
            "text/plain": [
              "           pH  EC mS/cm  N_NO3 ppm     P ppm     K ppm\n",
              "1    0.425876  0.040277   0.119625  0.209250  0.091187\n",
              "2    0.654987  0.098597   0.122281  0.118599  0.093023\n",
              "5    0.541779  0.039184   0.048481  0.087479  0.122399\n",
              "6    0.533693  0.153271   0.293707  0.088404  0.093023\n",
              "8    0.423181  0.024057   0.027644  0.059134  0.109547\n",
              "..        ...       ...        ...       ...       ...\n",
              "775  0.870620  0.053946   0.034368  0.027354  0.257650\n",
              "777  0.889488  0.038090   0.041674  0.020284  0.156059\n",
              "778  0.846361  0.182431   0.140711  0.038520  0.337209\n",
              "779  0.873315  0.047202   0.031048  0.045325  0.186047\n",
              "780  0.892183  0.046291   0.084426  0.017245  0.361689\n",
              "\n",
              "[781 rows x 5 columns]"
            ],
            "text/html": [
              "\n",
              "  <div id=\"df-e77028c8-5448-41b8-b22f-dd5aef9b44b4\">\n",
              "    <div class=\"colab-df-container\">\n",
              "      <div>\n",
              "<style scoped>\n",
              "    .dataframe tbody tr th:only-of-type {\n",
              "        vertical-align: middle;\n",
              "    }\n",
              "\n",
              "    .dataframe tbody tr th {\n",
              "        vertical-align: top;\n",
              "    }\n",
              "\n",
              "    .dataframe thead th {\n",
              "        text-align: right;\n",
              "    }\n",
              "</style>\n",
              "<table border=\"1\" class=\"dataframe\">\n",
              "  <thead>\n",
              "    <tr style=\"text-align: right;\">\n",
              "      <th></th>\n",
              "      <th>pH</th>\n",
              "      <th>EC mS/cm</th>\n",
              "      <th>N_NO3 ppm</th>\n",
              "      <th>P ppm</th>\n",
              "      <th>K ppm</th>\n",
              "    </tr>\n",
              "  </thead>\n",
              "  <tbody>\n",
              "    <tr>\n",
              "      <th>1</th>\n",
              "      <td>0.425876</td>\n",
              "      <td>0.040277</td>\n",
              "      <td>0.119625</td>\n",
              "      <td>0.209250</td>\n",
              "      <td>0.091187</td>\n",
              "    </tr>\n",
              "    <tr>\n",
              "      <th>2</th>\n",
              "      <td>0.654987</td>\n",
              "      <td>0.098597</td>\n",
              "      <td>0.122281</td>\n",
              "      <td>0.118599</td>\n",
              "      <td>0.093023</td>\n",
              "    </tr>\n",
              "    <tr>\n",
              "      <th>5</th>\n",
              "      <td>0.541779</td>\n",
              "      <td>0.039184</td>\n",
              "      <td>0.048481</td>\n",
              "      <td>0.087479</td>\n",
              "      <td>0.122399</td>\n",
              "    </tr>\n",
              "    <tr>\n",
              "      <th>6</th>\n",
              "      <td>0.533693</td>\n",
              "      <td>0.153271</td>\n",
              "      <td>0.293707</td>\n",
              "      <td>0.088404</td>\n",
              "      <td>0.093023</td>\n",
              "    </tr>\n",
              "    <tr>\n",
              "      <th>8</th>\n",
              "      <td>0.423181</td>\n",
              "      <td>0.024057</td>\n",
              "      <td>0.027644</td>\n",
              "      <td>0.059134</td>\n",
              "      <td>0.109547</td>\n",
              "    </tr>\n",
              "    <tr>\n",
              "      <th>...</th>\n",
              "      <td>...</td>\n",
              "      <td>...</td>\n",
              "      <td>...</td>\n",
              "      <td>...</td>\n",
              "      <td>...</td>\n",
              "    </tr>\n",
              "    <tr>\n",
              "      <th>775</th>\n",
              "      <td>0.870620</td>\n",
              "      <td>0.053946</td>\n",
              "      <td>0.034368</td>\n",
              "      <td>0.027354</td>\n",
              "      <td>0.257650</td>\n",
              "    </tr>\n",
              "    <tr>\n",
              "      <th>777</th>\n",
              "      <td>0.889488</td>\n",
              "      <td>0.038090</td>\n",
              "      <td>0.041674</td>\n",
              "      <td>0.020284</td>\n",
              "      <td>0.156059</td>\n",
              "    </tr>\n",
              "    <tr>\n",
              "      <th>778</th>\n",
              "      <td>0.846361</td>\n",
              "      <td>0.182431</td>\n",
              "      <td>0.140711</td>\n",
              "      <td>0.038520</td>\n",
              "      <td>0.337209</td>\n",
              "    </tr>\n",
              "    <tr>\n",
              "      <th>779</th>\n",
              "      <td>0.873315</td>\n",
              "      <td>0.047202</td>\n",
              "      <td>0.031048</td>\n",
              "      <td>0.045325</td>\n",
              "      <td>0.186047</td>\n",
              "    </tr>\n",
              "    <tr>\n",
              "      <th>780</th>\n",
              "      <td>0.892183</td>\n",
              "      <td>0.046291</td>\n",
              "      <td>0.084426</td>\n",
              "      <td>0.017245</td>\n",
              "      <td>0.361689</td>\n",
              "    </tr>\n",
              "  </tbody>\n",
              "</table>\n",
              "<p>781 rows × 5 columns</p>\n",
              "</div>\n",
              "      <button class=\"colab-df-convert\" onclick=\"convertToInteractive('df-e77028c8-5448-41b8-b22f-dd5aef9b44b4')\"\n",
              "              title=\"Convert this dataframe to an interactive table.\"\n",
              "              style=\"display:none;\">\n",
              "        \n",
              "  <svg xmlns=\"http://www.w3.org/2000/svg\" height=\"24px\"viewBox=\"0 0 24 24\"\n",
              "       width=\"24px\">\n",
              "    <path d=\"M0 0h24v24H0V0z\" fill=\"none\"/>\n",
              "    <path d=\"M18.56 5.44l.94 2.06.94-2.06 2.06-.94-2.06-.94-.94-2.06-.94 2.06-2.06.94zm-11 1L8.5 8.5l.94-2.06 2.06-.94-2.06-.94L8.5 2.5l-.94 2.06-2.06.94zm10 10l.94 2.06.94-2.06 2.06-.94-2.06-.94-.94-2.06-.94 2.06-2.06.94z\"/><path d=\"M17.41 7.96l-1.37-1.37c-.4-.4-.92-.59-1.43-.59-.52 0-1.04.2-1.43.59L10.3 9.45l-7.72 7.72c-.78.78-.78 2.05 0 2.83L4 21.41c.39.39.9.59 1.41.59.51 0 1.02-.2 1.41-.59l7.78-7.78 2.81-2.81c.8-.78.8-2.07 0-2.86zM5.41 20L4 18.59l7.72-7.72 1.47 1.35L5.41 20z\"/>\n",
              "  </svg>\n",
              "      </button>\n",
              "      \n",
              "  <style>\n",
              "    .colab-df-container {\n",
              "      display:flex;\n",
              "      flex-wrap:wrap;\n",
              "      gap: 12px;\n",
              "    }\n",
              "\n",
              "    .colab-df-convert {\n",
              "      background-color: #E8F0FE;\n",
              "      border: none;\n",
              "      border-radius: 50%;\n",
              "      cursor: pointer;\n",
              "      display: none;\n",
              "      fill: #1967D2;\n",
              "      height: 32px;\n",
              "      padding: 0 0 0 0;\n",
              "      width: 32px;\n",
              "    }\n",
              "\n",
              "    .colab-df-convert:hover {\n",
              "      background-color: #E2EBFA;\n",
              "      box-shadow: 0px 1px 2px rgba(60, 64, 67, 0.3), 0px 1px 3px 1px rgba(60, 64, 67, 0.15);\n",
              "      fill: #174EA6;\n",
              "    }\n",
              "\n",
              "    [theme=dark] .colab-df-convert {\n",
              "      background-color: #3B4455;\n",
              "      fill: #D2E3FC;\n",
              "    }\n",
              "\n",
              "    [theme=dark] .colab-df-convert:hover {\n",
              "      background-color: #434B5C;\n",
              "      box-shadow: 0px 1px 3px 1px rgba(0, 0, 0, 0.15);\n",
              "      filter: drop-shadow(0px 1px 2px rgba(0, 0, 0, 0.3));\n",
              "      fill: #FFFFFF;\n",
              "    }\n",
              "  </style>\n",
              "\n",
              "      <script>\n",
              "        const buttonEl =\n",
              "          document.querySelector('#df-e77028c8-5448-41b8-b22f-dd5aef9b44b4 button.colab-df-convert');\n",
              "        buttonEl.style.display =\n",
              "          google.colab.kernel.accessAllowed ? 'block' : 'none';\n",
              "\n",
              "        async function convertToInteractive(key) {\n",
              "          const element = document.querySelector('#df-e77028c8-5448-41b8-b22f-dd5aef9b44b4');\n",
              "          const dataTable =\n",
              "            await google.colab.kernel.invokeFunction('convertToInteractive',\n",
              "                                                     [key], {});\n",
              "          if (!dataTable) return;\n",
              "\n",
              "          const docLinkHtml = 'Like what you see? Visit the ' +\n",
              "            '<a target=\"_blank\" href=https://colab.research.google.com/notebooks/data_table.ipynb>data table notebook</a>'\n",
              "            + ' to learn more about interactive tables.';\n",
              "          element.innerHTML = '';\n",
              "          dataTable['output_type'] = 'display_data';\n",
              "          await google.colab.output.renderOutput(dataTable, element);\n",
              "          const docLink = document.createElement('div');\n",
              "          docLink.innerHTML = docLinkHtml;\n",
              "          element.appendChild(docLink);\n",
              "        }\n",
              "      </script>\n",
              "    </div>\n",
              "  </div>\n",
              "  "
            ]
          },
          "metadata": {},
          "execution_count": 42
        }
      ]
    },
    {
      "cell_type": "markdown",
      "source": [
        "ANN KERAS"
      ],
      "metadata": {
        "id": "8oTkaP-FbhCz"
      }
    },
    {
      "cell_type": "code",
      "source": [
        "from keras.models import Sequential\n",
        "from keras.layers import Flatten, Dense\n",
        "from tensorflow.keras.utils import to_categorical\n",
        "import numpy as np\n",
        "\n",
        "train_labels = to_categorical(y_train)\n",
        "test_labels = to_categorical(y_test)\n",
        "\n",
        "model = Sequential()\n",
        "model.add(Dense(32, activation='relu', input_shape=(5,)))\n",
        "model.add(Dense(64, activation='relu'))\n",
        "model.add(Dense(128, activation='relu'))\n",
        "model.add(Dense(2, activation='softmax'))\n",
        "model.compile(optimizer='adam',loss='categorical_crossentropy', metrics=['acc'])\n",
        "\n",
        "history = model.fit(X_train, train_labels,epochs=64,batch_size=5)\n",
        "model.summary()\n"
      ],
      "metadata": {
        "colab": {
          "base_uri": "https://localhost:8080/"
        },
        "id": "chvs82en5cDj",
        "outputId": "3bbfdc8a-206a-44d7-a3fb-71eb9b90e98a"
      },
      "execution_count": 43,
      "outputs": [
        {
          "output_type": "stream",
          "name": "stdout",
          "text": [
            "Epoch 1/64\n",
            "125/125 [==============================] - 1s 3ms/step - loss: 0.6769 - acc: 0.5577\n",
            "Epoch 2/64\n",
            "125/125 [==============================] - 0s 2ms/step - loss: 0.6157 - acc: 0.6747\n",
            "Epoch 3/64\n",
            "125/125 [==============================] - 0s 2ms/step - loss: 0.4972 - acc: 0.7788\n",
            "Epoch 4/64\n",
            "125/125 [==============================] - 0s 3ms/step - loss: 0.3874 - acc: 0.8269\n",
            "Epoch 5/64\n",
            "125/125 [==============================] - 0s 2ms/step - loss: 0.3359 - acc: 0.8494\n",
            "Epoch 6/64\n",
            "125/125 [==============================] - 0s 3ms/step - loss: 0.2922 - acc: 0.8590\n",
            "Epoch 7/64\n",
            "125/125 [==============================] - 0s 3ms/step - loss: 0.2507 - acc: 0.9022\n",
            "Epoch 8/64\n",
            "125/125 [==============================] - 0s 2ms/step - loss: 0.2489 - acc: 0.8814\n",
            "Epoch 9/64\n",
            "125/125 [==============================] - 0s 2ms/step - loss: 0.1929 - acc: 0.9279\n",
            "Epoch 10/64\n",
            "125/125 [==============================] - 0s 3ms/step - loss: 0.1880 - acc: 0.9247\n",
            "Epoch 11/64\n",
            "125/125 [==============================] - 0s 3ms/step - loss: 0.1728 - acc: 0.9343\n",
            "Epoch 12/64\n",
            "125/125 [==============================] - 0s 2ms/step - loss: 0.1626 - acc: 0.9391\n",
            "Epoch 13/64\n",
            "125/125 [==============================] - 0s 2ms/step - loss: 0.1824 - acc: 0.9071\n",
            "Epoch 14/64\n",
            "125/125 [==============================] - 0s 2ms/step - loss: 0.1491 - acc: 0.9391\n",
            "Epoch 15/64\n",
            "125/125 [==============================] - 0s 2ms/step - loss: 0.1282 - acc: 0.9503\n",
            "Epoch 16/64\n",
            "125/125 [==============================] - 0s 2ms/step - loss: 0.1286 - acc: 0.9455\n",
            "Epoch 17/64\n",
            "125/125 [==============================] - 0s 2ms/step - loss: 0.1140 - acc: 0.9519\n",
            "Epoch 18/64\n",
            "125/125 [==============================] - 0s 2ms/step - loss: 0.0953 - acc: 0.9679\n",
            "Epoch 19/64\n",
            "125/125 [==============================] - 0s 2ms/step - loss: 0.1303 - acc: 0.9391\n",
            "Epoch 20/64\n",
            "125/125 [==============================] - 0s 2ms/step - loss: 0.1095 - acc: 0.9519\n",
            "Epoch 21/64\n",
            "125/125 [==============================] - 0s 2ms/step - loss: 0.1335 - acc: 0.9407\n",
            "Epoch 22/64\n",
            "125/125 [==============================] - 0s 2ms/step - loss: 0.1142 - acc: 0.9439\n",
            "Epoch 23/64\n",
            "125/125 [==============================] - 0s 2ms/step - loss: 0.1338 - acc: 0.9439\n",
            "Epoch 24/64\n",
            "125/125 [==============================] - 0s 3ms/step - loss: 0.0841 - acc: 0.9712\n",
            "Epoch 25/64\n",
            "125/125 [==============================] - 0s 2ms/step - loss: 0.0946 - acc: 0.9567\n",
            "Epoch 26/64\n",
            "125/125 [==============================] - 0s 2ms/step - loss: 0.0829 - acc: 0.9679\n",
            "Epoch 27/64\n",
            "125/125 [==============================] - 0s 2ms/step - loss: 0.0975 - acc: 0.9647\n",
            "Epoch 28/64\n",
            "125/125 [==============================] - 0s 2ms/step - loss: 0.1463 - acc: 0.9343\n",
            "Epoch 29/64\n",
            "125/125 [==============================] - 0s 2ms/step - loss: 0.1159 - acc: 0.9551\n",
            "Epoch 30/64\n",
            "125/125 [==============================] - 0s 2ms/step - loss: 0.0861 - acc: 0.9663\n",
            "Epoch 31/64\n",
            "125/125 [==============================] - 0s 2ms/step - loss: 0.1302 - acc: 0.9519\n",
            "Epoch 32/64\n",
            "125/125 [==============================] - 0s 2ms/step - loss: 0.1348 - acc: 0.9311\n",
            "Epoch 33/64\n",
            "125/125 [==============================] - 0s 2ms/step - loss: 0.0768 - acc: 0.9696\n",
            "Epoch 34/64\n",
            "125/125 [==============================] - 0s 2ms/step - loss: 0.0764 - acc: 0.9744\n",
            "Epoch 35/64\n",
            "125/125 [==============================] - 0s 2ms/step - loss: 0.0851 - acc: 0.9631\n",
            "Epoch 36/64\n",
            "125/125 [==============================] - 0s 2ms/step - loss: 0.0942 - acc: 0.9615\n",
            "Epoch 37/64\n",
            "125/125 [==============================] - 0s 2ms/step - loss: 0.1123 - acc: 0.9551\n",
            "Epoch 38/64\n",
            "125/125 [==============================] - 0s 2ms/step - loss: 0.0827 - acc: 0.9712\n",
            "Epoch 39/64\n",
            "125/125 [==============================] - 0s 2ms/step - loss: 0.0887 - acc: 0.9631\n",
            "Epoch 40/64\n",
            "125/125 [==============================] - 0s 2ms/step - loss: 0.0755 - acc: 0.9760\n",
            "Epoch 41/64\n",
            "125/125 [==============================] - 0s 2ms/step - loss: 0.1409 - acc: 0.9375\n",
            "Epoch 42/64\n",
            "125/125 [==============================] - 0s 2ms/step - loss: 0.0722 - acc: 0.9760\n",
            "Epoch 43/64\n",
            "125/125 [==============================] - 0s 2ms/step - loss: 0.1151 - acc: 0.9471\n",
            "Epoch 44/64\n",
            "125/125 [==============================] - 0s 2ms/step - loss: 0.0951 - acc: 0.9583\n",
            "Epoch 45/64\n",
            "125/125 [==============================] - 0s 2ms/step - loss: 0.0942 - acc: 0.9567\n",
            "Epoch 46/64\n",
            "125/125 [==============================] - 0s 2ms/step - loss: 0.1033 - acc: 0.9583\n",
            "Epoch 47/64\n",
            "125/125 [==============================] - 0s 2ms/step - loss: 0.0795 - acc: 0.9583\n",
            "Epoch 48/64\n",
            "125/125 [==============================] - 0s 2ms/step - loss: 0.0617 - acc: 0.9792\n",
            "Epoch 49/64\n",
            "125/125 [==============================] - 0s 2ms/step - loss: 0.0658 - acc: 0.9760\n",
            "Epoch 50/64\n",
            "125/125 [==============================] - 0s 2ms/step - loss: 0.0708 - acc: 0.9696\n",
            "Epoch 51/64\n",
            "125/125 [==============================] - 0s 2ms/step - loss: 0.0691 - acc: 0.9776\n",
            "Epoch 52/64\n",
            "125/125 [==============================] - 0s 2ms/step - loss: 0.0934 - acc: 0.9679\n",
            "Epoch 53/64\n",
            "125/125 [==============================] - 0s 2ms/step - loss: 0.0896 - acc: 0.9679\n",
            "Epoch 54/64\n",
            "125/125 [==============================] - 0s 2ms/step - loss: 0.0763 - acc: 0.9631\n",
            "Epoch 55/64\n",
            "125/125 [==============================] - 0s 2ms/step - loss: 0.0842 - acc: 0.9615\n",
            "Epoch 56/64\n",
            "125/125 [==============================] - 0s 2ms/step - loss: 0.0624 - acc: 0.9696\n",
            "Epoch 57/64\n",
            "125/125 [==============================] - 0s 2ms/step - loss: 0.0854 - acc: 0.9647\n",
            "Epoch 58/64\n",
            "125/125 [==============================] - 0s 2ms/step - loss: 0.0727 - acc: 0.9696\n",
            "Epoch 59/64\n",
            "125/125 [==============================] - 0s 2ms/step - loss: 0.0636 - acc: 0.9760\n",
            "Epoch 60/64\n",
            "125/125 [==============================] - 0s 3ms/step - loss: 0.0562 - acc: 0.9808\n",
            "Epoch 61/64\n",
            "125/125 [==============================] - 0s 2ms/step - loss: 0.0747 - acc: 0.9679\n",
            "Epoch 62/64\n",
            "125/125 [==============================] - 0s 2ms/step - loss: 0.0843 - acc: 0.9631\n",
            "Epoch 63/64\n",
            "125/125 [==============================] - 0s 2ms/step - loss: 0.0630 - acc: 0.9760\n",
            "Epoch 64/64\n",
            "125/125 [==============================] - 0s 2ms/step - loss: 0.0859 - acc: 0.9551\n",
            "Model: \"sequential_2\"\n",
            "_________________________________________________________________\n",
            " Layer (type)                Output Shape              Param #   \n",
            "=================================================================\n",
            " dense_8 (Dense)             (None, 32)                192       \n",
            "                                                                 \n",
            " dense_9 (Dense)             (None, 64)                2112      \n",
            "                                                                 \n",
            " dense_10 (Dense)            (None, 128)               8320      \n",
            "                                                                 \n",
            " dense_11 (Dense)            (None, 2)                 258       \n",
            "                                                                 \n",
            "=================================================================\n",
            "Total params: 10,882\n",
            "Trainable params: 10,882\n",
            "Non-trainable params: 0\n",
            "_________________________________________________________________\n"
          ]
        }
      ]
    },
    {
      "cell_type": "code",
      "source": [
        "!pip install ann_visualizer"
      ],
      "metadata": {
        "id": "sN9W_K_IWtUT"
      },
      "execution_count": null,
      "outputs": []
    },
    {
      "cell_type": "code",
      "source": [
        "from ann_visualizer.visualize import ann_viz;\n",
        "\n",
        "ann_viz(model, title=\"visualisasi Keras Model\")"
      ],
      "metadata": {
        "id": "uLnKhFryWKpr"
      },
      "execution_count": 30,
      "outputs": []
    },
    {
      "cell_type": "code",
      "source": [
        "df1"
      ],
      "metadata": {
        "colab": {
          "base_uri": "https://localhost:8080/",
          "height": 424
        },
        "id": "Ug9_aaubRViS",
        "outputId": "397dd994-1904-44df-b2b6-4de3072efff7"
      },
      "execution_count": 59,
      "outputs": [
        {
          "output_type": "execute_result",
          "data": {
            "text/plain": [
              "           pH  EC mS/cm  N_NO3 ppm     P ppm     K ppm  Class\n",
              "1    0.425876  0.040277   0.119625  0.209250  0.091187      0\n",
              "2    0.654987  0.098597   0.122281  0.118599  0.093023      0\n",
              "5    0.541779  0.039184   0.048481  0.087479  0.122399      0\n",
              "6    0.533693  0.153271   0.293707  0.088404  0.093023      0\n",
              "8    0.423181  0.024057   0.027644  0.059134  0.109547      0\n",
              "..        ...       ...        ...       ...       ...    ...\n",
              "775  0.870620  0.053946   0.034368  0.027354  0.257650      1\n",
              "777  0.889488  0.038090   0.041674  0.020284  0.156059      1\n",
              "778  0.846361  0.182431   0.140711  0.038520  0.337209      1\n",
              "779  0.873315  0.047202   0.031048  0.045325  0.186047      1\n",
              "780  0.892183  0.046291   0.084426  0.017245  0.361689      1\n",
              "\n",
              "[781 rows x 6 columns]"
            ],
            "text/html": [
              "\n",
              "  <div id=\"df-9d3b8d5a-c15f-46db-b2c8-ba053a3e3a4a\">\n",
              "    <div class=\"colab-df-container\">\n",
              "      <div>\n",
              "<style scoped>\n",
              "    .dataframe tbody tr th:only-of-type {\n",
              "        vertical-align: middle;\n",
              "    }\n",
              "\n",
              "    .dataframe tbody tr th {\n",
              "        vertical-align: top;\n",
              "    }\n",
              "\n",
              "    .dataframe thead th {\n",
              "        text-align: right;\n",
              "    }\n",
              "</style>\n",
              "<table border=\"1\" class=\"dataframe\">\n",
              "  <thead>\n",
              "    <tr style=\"text-align: right;\">\n",
              "      <th></th>\n",
              "      <th>pH</th>\n",
              "      <th>EC mS/cm</th>\n",
              "      <th>N_NO3 ppm</th>\n",
              "      <th>P ppm</th>\n",
              "      <th>K ppm</th>\n",
              "      <th>Class</th>\n",
              "    </tr>\n",
              "  </thead>\n",
              "  <tbody>\n",
              "    <tr>\n",
              "      <th>1</th>\n",
              "      <td>0.425876</td>\n",
              "      <td>0.040277</td>\n",
              "      <td>0.119625</td>\n",
              "      <td>0.209250</td>\n",
              "      <td>0.091187</td>\n",
              "      <td>0</td>\n",
              "    </tr>\n",
              "    <tr>\n",
              "      <th>2</th>\n",
              "      <td>0.654987</td>\n",
              "      <td>0.098597</td>\n",
              "      <td>0.122281</td>\n",
              "      <td>0.118599</td>\n",
              "      <td>0.093023</td>\n",
              "      <td>0</td>\n",
              "    </tr>\n",
              "    <tr>\n",
              "      <th>5</th>\n",
              "      <td>0.541779</td>\n",
              "      <td>0.039184</td>\n",
              "      <td>0.048481</td>\n",
              "      <td>0.087479</td>\n",
              "      <td>0.122399</td>\n",
              "      <td>0</td>\n",
              "    </tr>\n",
              "    <tr>\n",
              "      <th>6</th>\n",
              "      <td>0.533693</td>\n",
              "      <td>0.153271</td>\n",
              "      <td>0.293707</td>\n",
              "      <td>0.088404</td>\n",
              "      <td>0.093023</td>\n",
              "      <td>0</td>\n",
              "    </tr>\n",
              "    <tr>\n",
              "      <th>8</th>\n",
              "      <td>0.423181</td>\n",
              "      <td>0.024057</td>\n",
              "      <td>0.027644</td>\n",
              "      <td>0.059134</td>\n",
              "      <td>0.109547</td>\n",
              "      <td>0</td>\n",
              "    </tr>\n",
              "    <tr>\n",
              "      <th>...</th>\n",
              "      <td>...</td>\n",
              "      <td>...</td>\n",
              "      <td>...</td>\n",
              "      <td>...</td>\n",
              "      <td>...</td>\n",
              "      <td>...</td>\n",
              "    </tr>\n",
              "    <tr>\n",
              "      <th>775</th>\n",
              "      <td>0.870620</td>\n",
              "      <td>0.053946</td>\n",
              "      <td>0.034368</td>\n",
              "      <td>0.027354</td>\n",
              "      <td>0.257650</td>\n",
              "      <td>1</td>\n",
              "    </tr>\n",
              "    <tr>\n",
              "      <th>777</th>\n",
              "      <td>0.889488</td>\n",
              "      <td>0.038090</td>\n",
              "      <td>0.041674</td>\n",
              "      <td>0.020284</td>\n",
              "      <td>0.156059</td>\n",
              "      <td>1</td>\n",
              "    </tr>\n",
              "    <tr>\n",
              "      <th>778</th>\n",
              "      <td>0.846361</td>\n",
              "      <td>0.182431</td>\n",
              "      <td>0.140711</td>\n",
              "      <td>0.038520</td>\n",
              "      <td>0.337209</td>\n",
              "      <td>1</td>\n",
              "    </tr>\n",
              "    <tr>\n",
              "      <th>779</th>\n",
              "      <td>0.873315</td>\n",
              "      <td>0.047202</td>\n",
              "      <td>0.031048</td>\n",
              "      <td>0.045325</td>\n",
              "      <td>0.186047</td>\n",
              "      <td>1</td>\n",
              "    </tr>\n",
              "    <tr>\n",
              "      <th>780</th>\n",
              "      <td>0.892183</td>\n",
              "      <td>0.046291</td>\n",
              "      <td>0.084426</td>\n",
              "      <td>0.017245</td>\n",
              "      <td>0.361689</td>\n",
              "      <td>1</td>\n",
              "    </tr>\n",
              "  </tbody>\n",
              "</table>\n",
              "<p>781 rows × 6 columns</p>\n",
              "</div>\n",
              "      <button class=\"colab-df-convert\" onclick=\"convertToInteractive('df-9d3b8d5a-c15f-46db-b2c8-ba053a3e3a4a')\"\n",
              "              title=\"Convert this dataframe to an interactive table.\"\n",
              "              style=\"display:none;\">\n",
              "        \n",
              "  <svg xmlns=\"http://www.w3.org/2000/svg\" height=\"24px\"viewBox=\"0 0 24 24\"\n",
              "       width=\"24px\">\n",
              "    <path d=\"M0 0h24v24H0V0z\" fill=\"none\"/>\n",
              "    <path d=\"M18.56 5.44l.94 2.06.94-2.06 2.06-.94-2.06-.94-.94-2.06-.94 2.06-2.06.94zm-11 1L8.5 8.5l.94-2.06 2.06-.94-2.06-.94L8.5 2.5l-.94 2.06-2.06.94zm10 10l.94 2.06.94-2.06 2.06-.94-2.06-.94-.94-2.06-.94 2.06-2.06.94z\"/><path d=\"M17.41 7.96l-1.37-1.37c-.4-.4-.92-.59-1.43-.59-.52 0-1.04.2-1.43.59L10.3 9.45l-7.72 7.72c-.78.78-.78 2.05 0 2.83L4 21.41c.39.39.9.59 1.41.59.51 0 1.02-.2 1.41-.59l7.78-7.78 2.81-2.81c.8-.78.8-2.07 0-2.86zM5.41 20L4 18.59l7.72-7.72 1.47 1.35L5.41 20z\"/>\n",
              "  </svg>\n",
              "      </button>\n",
              "      \n",
              "  <style>\n",
              "    .colab-df-container {\n",
              "      display:flex;\n",
              "      flex-wrap:wrap;\n",
              "      gap: 12px;\n",
              "    }\n",
              "\n",
              "    .colab-df-convert {\n",
              "      background-color: #E8F0FE;\n",
              "      border: none;\n",
              "      border-radius: 50%;\n",
              "      cursor: pointer;\n",
              "      display: none;\n",
              "      fill: #1967D2;\n",
              "      height: 32px;\n",
              "      padding: 0 0 0 0;\n",
              "      width: 32px;\n",
              "    }\n",
              "\n",
              "    .colab-df-convert:hover {\n",
              "      background-color: #E2EBFA;\n",
              "      box-shadow: 0px 1px 2px rgba(60, 64, 67, 0.3), 0px 1px 3px 1px rgba(60, 64, 67, 0.15);\n",
              "      fill: #174EA6;\n",
              "    }\n",
              "\n",
              "    [theme=dark] .colab-df-convert {\n",
              "      background-color: #3B4455;\n",
              "      fill: #D2E3FC;\n",
              "    }\n",
              "\n",
              "    [theme=dark] .colab-df-convert:hover {\n",
              "      background-color: #434B5C;\n",
              "      box-shadow: 0px 1px 3px 1px rgba(0, 0, 0, 0.15);\n",
              "      filter: drop-shadow(0px 1px 2px rgba(0, 0, 0, 0.3));\n",
              "      fill: #FFFFFF;\n",
              "    }\n",
              "  </style>\n",
              "\n",
              "      <script>\n",
              "        const buttonEl =\n",
              "          document.querySelector('#df-9d3b8d5a-c15f-46db-b2c8-ba053a3e3a4a button.colab-df-convert');\n",
              "        buttonEl.style.display =\n",
              "          google.colab.kernel.accessAllowed ? 'block' : 'none';\n",
              "\n",
              "        async function convertToInteractive(key) {\n",
              "          const element = document.querySelector('#df-9d3b8d5a-c15f-46db-b2c8-ba053a3e3a4a');\n",
              "          const dataTable =\n",
              "            await google.colab.kernel.invokeFunction('convertToInteractive',\n",
              "                                                     [key], {});\n",
              "          if (!dataTable) return;\n",
              "\n",
              "          const docLinkHtml = 'Like what you see? Visit the ' +\n",
              "            '<a target=\"_blank\" href=https://colab.research.google.com/notebooks/data_table.ipynb>data table notebook</a>'\n",
              "            + ' to learn more about interactive tables.';\n",
              "          element.innerHTML = '';\n",
              "          dataTable['output_type'] = 'display_data';\n",
              "          await google.colab.output.renderOutput(dataTable, element);\n",
              "          const docLink = document.createElement('div');\n",
              "          docLink.innerHTML = docLinkHtml;\n",
              "          element.appendChild(docLink);\n",
              "        }\n",
              "      </script>\n",
              "    </div>\n",
              "  </div>\n",
              "  "
            ]
          },
          "metadata": {},
          "execution_count": 59
        }
      ]
    },
    {
      "cell_type": "code",
      "source": [
        "kmeans = KMeans(n_clusters=4)\n",
        "kmeans.fit(X)\n",
        "y_kmeans = kmeans.predict(X)"
      ],
      "metadata": {
        "id": "pQPHmpUcOzWr"
      },
      "execution_count": null,
      "outputs": []
    },
    {
      "cell_type": "code",
      "source": [
        "x = df.iloc[:, 0]\n",
        "y = df['Class']\n",
        "plt.scatter(x, y, s=50, alpha=0.7)\n",
        "plt.xlabel('pH')\n",
        "plt.ylabel('Class')"
      ],
      "metadata": {
        "id": "5Z2njJumRSOr"
      },
      "execution_count": null,
      "outputs": []
    },
    {
      "cell_type": "code",
      "source": [
        "value = [0.423181,\t0.024057,\t0.027644,\t0.059134,\t0.109547]\n",
        "pred = model.predict([value])\n",
        "pred"
      ],
      "metadata": {
        "colab": {
          "base_uri": "https://localhost:8080/"
        },
        "id": "xk8-95MGZf67",
        "outputId": "be0caca9-01f1-43ca-f270-ed7fae903478"
      },
      "execution_count": 61,
      "outputs": [
        {
          "output_type": "stream",
          "name": "stdout",
          "text": [
            "1/1 [==============================] - 0s 59ms/step\n"
          ]
        },
        {
          "output_type": "execute_result",
          "data": {
            "text/plain": [
              "array([[9.9987984e-01, 1.2012456e-04]], dtype=float32)"
            ]
          },
          "metadata": {},
          "execution_count": 61
        }
      ]
    },
    {
      "cell_type": "code",
      "source": [
        "value = [6.92, 675, 14.91, 19.02, 183]\n",
        "pred = clf.predict(sc.transform([value]))\n",
        "print(pred)"
      ],
      "metadata": {
        "colab": {
          "base_uri": "https://localhost:8080/"
        },
        "id": "ND0v7XpzjSo5",
        "outputId": "18cd4e1c-2448-46e0-b629-36562eb0ed72"
      },
      "execution_count": 90,
      "outputs": [
        {
          "output_type": "stream",
          "name": "stdout",
          "text": [
            "['Optimal']\n"
          ]
        },
        {
          "output_type": "stream",
          "name": "stderr",
          "text": [
            "/usr/local/lib/python3.7/dist-packages/sklearn/base.py:451: UserWarning: X does not have valid feature names, but MinMaxScaler was fitted with feature names\n",
            "  \"X does not have valid feature names, but\"\n",
            "/usr/local/lib/python3.7/dist-packages/sklearn/base.py:451: UserWarning: X does not have valid feature names, but DecisionTreeClassifier was fitted with feature names\n",
            "  \"X does not have valid feature names, but\"\n"
          ]
        }
      ]
    },
    {
      "cell_type": "code",
      "source": [
        "value = [0.42587601078167125, 0.04027701840714416, 0.11962477170845094, 0.20925008259002315, 0.09118727050183598]\n",
        "pred = model.predict([value])\n",
        "pred"
      ],
      "metadata": {
        "id": "66-grNuQkCFE",
        "colab": {
          "base_uri": "https://localhost:8080/"
        },
        "outputId": "ccfee809-1445-4bdc-d9b5-1c866711387f"
      },
      "execution_count": 63,
      "outputs": [
        {
          "output_type": "stream",
          "name": "stdout",
          "text": [
            "1/1 [==============================] - 0s 51ms/step\n"
          ]
        },
        {
          "output_type": "execute_result",
          "data": {
            "text/plain": [
              "array([[9.9995196e-01, 4.7993130e-05]], dtype=float32)"
            ]
          },
          "metadata": {},
          "execution_count": 63
        }
      ]
    },
    {
      "cell_type": "code",
      "source": [
        "import numpy as np\n",
        "value = [6.5, 0.349, 6.02, 14.31, 231]\n",
        "sc.transform([value])"
      ],
      "metadata": {
        "colab": {
          "base_uri": "https://localhost:8080/"
        },
        "id": "274Jj6Q5sw_x",
        "outputId": "dda26ae7-7ba6-4c49-a8bc-21de49ce923d"
      },
      "execution_count": 82,
      "outputs": [
        {
          "output_type": "stream",
          "name": "stderr",
          "text": [
            "/usr/local/lib/python3.7/dist-packages/sklearn/base.py:451: UserWarning: X does not have valid feature names, but MinMaxScaler was fitted with feature names\n",
            "  \"X does not have valid feature names, but\"\n"
          ]
        },
        {
          "output_type": "execute_result",
          "data": {
            "text/plain": [
              "array([[ 0.54177898, -0.02435775,  0.04848082,  0.08747935,  0.12239902]])"
            ]
          },
          "metadata": {},
          "execution_count": 82
        }
      ]
    },
    {
      "cell_type": "code",
      "source": [
        "sc.transform([value])\n",
        "pred = clf.predict(sc.transform([value]))\n",
        "print(\"X=%s, Predicted=%s\" % ([value], pred))"
      ],
      "metadata": {
        "colab": {
          "base_uri": "https://localhost:8080/"
        },
        "id": "lUkWEYYen1U2",
        "outputId": "6f2f20a5-e996-4763-961d-c82c8b7e660d"
      },
      "execution_count": 87,
      "outputs": [
        {
          "output_type": "stream",
          "name": "stdout",
          "text": [
            "X=[[6.5, 0.349, 6.02, 14.31, 231]], Predicted=['Optimal']\n"
          ]
        },
        {
          "output_type": "stream",
          "name": "stderr",
          "text": [
            "/usr/local/lib/python3.7/dist-packages/sklearn/base.py:451: UserWarning: X does not have valid feature names, but MinMaxScaler was fitted with feature names\n",
            "  \"X does not have valid feature names, but\"\n",
            "/usr/local/lib/python3.7/dist-packages/sklearn/base.py:451: UserWarning: X does not have valid feature names, but MinMaxScaler was fitted with feature names\n",
            "  \"X does not have valid feature names, but\"\n",
            "/usr/local/lib/python3.7/dist-packages/sklearn/base.py:451: UserWarning: X does not have valid feature names, but DecisionTreeClassifier was fitted with feature names\n",
            "  \"X does not have valid feature names, but\"\n"
          ]
        }
      ]
    }
  ]
}